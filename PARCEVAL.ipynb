{
 "cells": [
  {
   "cell_type": "markdown",
   "metadata": {},
   "source": [
    "# Exploración"
   ]
  },
  {
   "cell_type": "markdown",
   "metadata": {},
   "source": [
    "Bueno, necesitamos hacer exploración, y limpieza de datos si es necesario. \n",
    "En nuestro caso, debemos solo separar nuestras fotos por clase."
   ]
  },
  {
   "cell_type": "markdown",
   "metadata": {},
   "source": [
    "### Librerias"
   ]
  },
  {
   "cell_type": "code",
   "execution_count": 8,
   "metadata": {},
   "outputs": [],
   "source": [
    "#Librerias varias\n",
    "import os\n",
    "from PIL import Image\n",
    "import matplotlib.pyplot as plt\n",
    "import shutil\n",
    "import re\n",
    "from PIL import Image\n",
    "import glob"
   ]
  },
  {
   "cell_type": "markdown",
   "metadata": {},
   "source": [
    "### Tipo de archivos"
   ]
  },
  {
   "cell_type": "code",
   "execution_count": null,
   "metadata": {},
   "outputs": [],
   "source": [
    "#Bueno, primero veamos si tenemos una  base de datos limpia.\n",
    "\n",
    "folder_path = r\"C:\\Users\\think\\Documents\\GitRepos\\FP_TSAF-2024\\WeatherDataSetOG\\dataset2\"\n",
    "\n",
    "# Aqui vamos a guardar las extensiones de los archivos\n",
    "file_extensions = set()\n",
    "\n",
    "# Un loop \n",
    "for filename in os.listdir(folder_path):\n",
    "    # extension\n",
    "    _, extension = os.path.splitext(filename)\n",
    "    if extension:  # si la extension no es vacia entonces la guardamos\n",
    "        file_extensions.add(extension.lower())\n",
    "\n",
    "# Vemos que extensiones hay\n",
    "print(\"Found file extensions:\", file_extensions)\n"
   ]
  },
  {
   "cell_type": "code",
   "execution_count": null,
   "metadata": {},
   "outputs": [],
   "source": [
    "#Solo queria ver si las imagenes jpeg eran presentbales.\n",
    "folder_path = r\"C:\\Users\\think\\Documents\\GitRepos\\FP_TSAF-2024\\WeatherDataSetOG\\dataset2\"\n",
    "\n",
    "for filename in os.listdir(folder_path):\n",
    "    if filename.lower().endswith('.jpeg'):\n",
    "        file_path = os.path.join(folder_path, filename)\n",
    "        img = Image.open(file_path)\n",
    "        plt.imshow(img)\n",
    "        plt.title(filename)\n",
    "        plt.axis('off')  \n",
    "        plt.show()  \n"
   ]
  },
  {
   "cell_type": "markdown",
   "metadata": {},
   "source": [
    "### Acomodando las imagenes"
   ]
  },
  {
   "cell_type": "code",
   "execution_count": null,
   "metadata": {},
   "outputs": [],
   "source": [
    "#Esta rutina debe de organizar las imagenes en carpetas segun el clima que representan.\n",
    "#Usando REGEX para extraer el clima de la imagen.\n",
    "def extract_weather(filename):\n",
    "    match = re.search(r\"([a-zA-Z]+)\\d*\\.jpg\", filename)\n",
    "    if match:\n",
    "        return match.group(1)\n",
    "    else:\n",
    "        return None\n",
    "\n",
    "# Donde estan las imagenes.\n",
    "folder_path = r\"C:\\Users\\think\\Documents\\GitRepos\\FP_TSAF-2024\\WeatherDataSetOG\\dataset2\"\n",
    "\n",
    "# Donde vamos a crear el folder que contendra los subfolders\n",
    "main_folder_base_path = r\"C:\\Users\\think\\Documents\\GitRepos\\FP_TSAF-2024\"\n",
    "\n",
    "# Nombre del folder\n",
    "main_folder_name = \"WeatherDataSet_Organized\"\n",
    "\n",
    "# Creamos el folder\n",
    "main_folder_path = os.path.join(main_folder_base_path, main_folder_name)\n",
    "if not os.path.exists(main_folder_path):\n",
    "    os.mkdir(main_folder_path)\n",
    "\n",
    "# Checamos las clases\n",
    "main_folders = set()\n",
    "for filename in os.listdir(folder_path):\n",
    "    if filename.endswith(\".jpg\"):\n",
    "        weather = extract_weather(filename)\n",
    "        if weather:\n",
    "            main_folders.add(weather)\n",
    "            if len(main_folders) > 4:\n",
    "                print(\"More than 4 main folders created. Breaking the code.\") #Por si hacia muchas clases\n",
    "                break\n",
    "\n",
    "# Creand los folders de las clases \n",
    "for main_folder in main_folders:\n",
    "    if not os.path.exists(os.path.join(main_folder_path, main_folder)):\n",
    "        os.mkdir(os.path.join(main_folder_path, main_folder))\n",
    "\n",
    "# Llenamos los folders\n",
    "for filename in os.listdir(folder_path):\n",
    "    if filename.endswith(\".jpeg\"):\n",
    "        # Convertimos de jpeg a jpg en lugar de desperdiciar las imagenes\n",
    "        source_file = os.path.join(folder_path, filename)\n",
    "        destination_file = os.path.join(folder_path, filename[:-5] + \".jpg\")  \n",
    "        os.rename(source_file, destination_file)\n",
    "        filename = filename[:-5] + \".jpg\"  # Update  to .jpg\n",
    "    if filename.endswith(\".jpg\"):\n",
    "        weather = extract_weather(filename)\n",
    "        if weather in main_folders:\n",
    "            source_file = os.path.join(folder_path, filename)\n",
    "            destination_folder = os.path.join(main_folder_path, weather, filename)\n",
    "            shutil.move(source_file, destination_folder)"
   ]
  },
  {
   "cell_type": "markdown",
   "metadata": {},
   "source": [
    "### Checamos cuantas y como son las fotos de cada clase"
   ]
  },
  {
   "cell_type": "code",
   "execution_count": 1,
   "metadata": {},
   "outputs": [
    {
     "name": "stdout",
     "output_type": "stream",
     "text": [
      "Subfolder: cloudy\n",
      "Number of images: 300\n",
      "Shapes: {(255, 192), (229, 173), (252, 168), (1024, 675), (297, 167), (1280, 720), (291, 169), (225, 178), (300, 300), (615, 409), (312, 164), (768, 508), (206, 155), (241, 177), (500, 309), (287, 192), (250, 152), (207, 156), (259, 194), (233, 175), (282, 159), (1000, 750), (268, 178), (260, 174), (254, 170), (267, 189), (272, 185), (700, 421), (298, 185), (800, 377), (500, 329), (270, 178), (284, 177), (261, 175), (281, 187), (299, 168), (238, 158), (290, 174), (600, 254), (520, 362), (278, 157), (229, 152), (247, 252), (241, 181), (600, 400), (260, 194), (251, 167), (270, 180), (317, 167), (285, 171), (222, 167), (272, 153), (203, 163), (231, 154), (318, 159), (263, 168), (243, 162), (350, 200), (206, 152), (223, 168), (205, 154), (342, 171), (264, 178), (226, 170), (800, 500), (205, 300), (275, 172), (1920, 1080), (590, 400), (851, 377), (247, 165), (1024, 576), (720, 476), (272, 182), (213, 160), (303, 160), (224, 224), (276, 173), (271, 186), (239, 160), (1000, 667), (220, 165), (550, 412), (225, 225), (480, 360), (268, 168), (241, 151), (275, 183), (400, 269), (241, 160), (640, 360), (305, 172), (221, 166), (282, 179), (256, 160), (281, 159), (874, 664), (256, 169), (273, 185), (274, 184), (242, 161), (1077, 1600), (228, 171), (300, 157), (255, 198), (468, 351), (258, 169), (323, 170), (249, 166), (268, 179), (256, 153), (245, 153), (900, 676), (595, 476), (1600, 706), (640, 453), (203, 153), (500, 333), (300, 168), (1600, 1200), (266, 175), (211, 239), (720, 400), (2000, 2000), (332, 175), (258, 171), (306, 165), (236, 177), (230, 173), (245, 155), (226, 151), (800, 600), (300, 134), (231, 174), (317, 159), (302, 170), (211, 159), (237, 178), (301, 181), (267, 167), (199, 151), (1920, 1280), (256, 166), (326, 155), (319, 158), (209, 155), (239, 168), (201, 151), (1600, 1067), (700, 438), (283, 177), (261, 174), (227, 151), (258, 166), (900, 600), (267, 178), (225, 300), (490, 326), (800, 540), (300, 138), (255, 170), (301, 167), (284, 160), (312, 176), (759, 462), (250, 201), (338, 149), (852, 480), (183, 275), (235, 157), (728, 410), (269, 168), (241, 161), (227, 171), (1600, 971), (640, 480), (208, 167), (900, 675), (800, 533), (288, 175), (219, 151), (300, 149), (194, 259), (400, 300), (600, 300), (1024, 682), (265, 166), (238, 179), (375, 166), (285, 153)}\n",
      "Subfolder: rain\n",
      "Number of images: 215\n",
      "Shapes: {(580, 370), (674, 441), (594, 277), (640, 402), (1280, 720), (280, 160), (2244, 1458), (604, 272), (1668, 1500), (858, 536), (640, 420), (1023, 576), (850, 532), (725, 400), (615, 409), (550, 383), (648, 360), (276, 183), (326, 300), (500, 400), (259, 194), (250, 225), (595, 335), (280, 180), (266, 190), (480, 388), (400, 224), (360, 270), (800, 542), (539, 303), (284, 177), (280, 210), (299, 168), (590, 332), (290, 174), (417, 352), (4288, 2848), (800, 480), (600, 400), (260, 194), (768, 576), (289, 175), (281, 180), (460, 307), (680, 365), (350, 200), (666, 338), (630, 446), (310, 163), (1920, 1080), (300, 354), (759, 422), (1024, 622), (800, 466), (960, 540), (3500, 2453), (271, 186), (590, 329), (283, 178), (1023, 742), (480, 360), (650, 380), (225, 225), (275, 183), (600, 315), (660, 400), (600, 443), (450, 300), (274, 184), (3000, 2034), (3000, 1997), (185, 273), (651, 445), (650, 510), (468, 351), (1024, 626), (964, 859), (460, 288), (760, 400), (553, 369), (870, 488), (300, 168), (634, 422), (1600, 1200), (692, 384), (1024, 683), (700, 415), (960, 720), (635, 423), (800, 600), (370, 305), (618, 416), (1028, 735), (2059, 1158), (650, 487), (300, 225), (612, 405), (550, 366), (384, 288), (236, 243), (900, 506), (1191, 670), (303, 171), (1600, 1067), (900, 600), (800, 531), (650, 400), (268, 188), (273, 184), (320, 180), (289, 174), (292, 173), (852, 480), (183, 275), (600, 600), (2048, 1360), (640, 480), (800, 533), (253, 199), (615, 414), (810, 455), (570, 400), (680, 455), (400, 300), (620, 413), (300, 158), (600, 300), (188, 194), (620, 376), (1600, 900), (468, 282), (635, 459), (1000, 746), (2354, 1325), (320, 221)}\n",
      "Subfolder: shine\n",
      "Number of images: 253\n",
      "Shapes: {(314, 177), (252, 168), (281, 183), (325, 183), (290, 161), (244, 173), (225, 169), (300, 172), (240, 160), (615, 409), (274, 171), (168, 162), (232, 174), (206, 155), (189, 267), (276, 183), (550, 413), (259, 194), (211, 172), (233, 175), (200, 300), (263, 164), (245, 158), (254, 170), (267, 189), (240, 180), (688, 456), (287, 176), (840, 560), (691, 461), (270, 169), (284, 177), (235, 156), (227, 152), (299, 168), (300, 167), (290, 174), (204, 153), (400, 226), (259, 162), (1080, 1080), (237, 177), (936, 526), (242, 182), (219, 180), (231, 154), (280, 175), (318, 159), (243, 162), (350, 200), (2000, 1125), (325, 155), (1024, 839), (900, 596), (1920, 1080), (1024, 576), (600, 450), (1024, 768), (440, 330), (198, 159), (1000, 667), (253, 168), (220, 165), (226, 181), (480, 360), (283, 178), (225, 225), (275, 174), (241, 151), (275, 183), (600, 315), (261, 193), (158, 153), (221, 166), (271, 179), (287, 175), (620, 464), (450, 300), (320, 480), (274, 184), (228, 171), (239, 180), (257, 161), (180, 140), (238, 212), (300, 111), (286, 176), (250, 156), (230, 153), (1680, 1050), (2880, 1800), (245, 153), (184, 183), (244, 151), (209, 169), (608, 458), (300, 168), (266, 166), (1600, 1200), (1024, 683), (230, 164), (235, 178), (269, 180), (287, 161), (720, 537), (307, 173), (245, 164), (800, 426), (1200, 680), (302, 170), (2048, 1536), (248, 251), (227, 222), (327, 135), (244, 183), (288, 162), (282, 176), (640, 430), (480, 640), (273, 182), (262, 161), (283, 159), (275, 155), (168, 300), (278, 181), (600, 360), (261, 174), (1920, 1200), (260, 163), (367, 137), (500, 346), (264, 154), (640, 359), (230, 168), (224, 225), (223, 165), (644, 402), (318, 247), (852, 480), (183, 275), (235, 157), (269, 168), (199, 155), (264, 165), (237, 157), (180, 178), (620, 413), (229, 171), (259, 172), (244, 153), (400, 300), (258, 161), (300, 188), (238, 179)}\n",
      "Subfolder: sunrise\n",
      "Number of images: 357\n",
      "Shapes: {(294, 165), (372, 167), (286, 161), (315, 197), (247, 154), (252, 168), (1280, 720), (900, 597), (225, 169), (3456, 1801), (240, 160), (318, 162), (336, 210), (274, 171), (265, 177), (232, 174), (400, 231), (440, 267), (242, 151), (600, 524), (295, 166), (276, 183), (2500, 1667), (281, 176), (350, 230), (1140, 709), (360, 240), (500, 400), (3008, 2000), (259, 194), (300, 110), (233, 175), (207, 156), (1000, 750), (1323, 864), (280, 180), (260, 174), (3888, 2592), (557, 900), (255, 169), (240, 180), (320, 179), (500, 375), (242, 162), (284, 177), (300, 94), (280, 210), (227, 152), (1022, 682), (800, 450), (299, 168), (612, 564), (291, 164), (300, 112), (234, 176), (300, 121), (251, 201), (300, 130), (329, 166), (318, 166), (745, 556), (204, 153), (269, 188), (215, 162), (260, 194), (660, 430), (279, 183), (233, 161), (281, 180), (244, 170), (213, 320), (318, 159), (258, 172), (243, 162), (212, 159), (287, 162), (4752, 3168), (380, 164), (736, 552), (226, 170), (244, 163), (3200, 1200), (266, 160), (4261, 3195), (190, 265), (1920, 1080), (1440, 900), (266, 178), (320, 213), (300, 299), (232, 155), (1024, 576), (2304, 1728), (1920, 1281), (213, 160), (1024, 768), (516, 234), (261, 163), (276, 182), (1000, 667), (283, 169), (220, 165), (201, 161), (480, 360), (225, 225), (283, 178), (275, 183), (240, 161), (260, 173), (612, 408), (969, 545), (620, 400), (420, 320), (256, 160), (273, 185), (274, 184), (341, 512), (242, 161), (900, 463), (376, 250), (784, 508), (228, 171), (300, 157), (202, 152), (239, 180), (257, 161), (277, 173), (249, 166), (344, 147), (232, 168), (270, 152), (245, 153), (1024, 763), (271, 181), (680, 453), (237, 158), (200, 157), (262, 175), (229, 172), (203, 153), (300, 168), (266, 166), (1600, 1200), (238, 159), (1280, 853), (320, 210), (257, 172), (266, 175), (269, 180), (236, 177), (230, 173), (350, 263), (243, 170), (640, 428), (350, 144), (2048, 844), (245, 164), (4368, 2912), (231, 174), (234, 152), (320, 240), (228, 166), (214, 176), (211, 159), (500, 326), (790, 555), (316, 480), (1024, 557), (266, 177), (320, 212), (400, 266), (221, 282), (1920, 1280), (259, 156), (224, 168), (1600, 1049), (278, 181), (283, 177), (261, 174), (750, 500), (227, 151), (500, 282), (1920, 1200), (900, 600), (252, 189), (224, 152), (333, 187), (225, 300), (738, 492), (2560, 1600), (281, 158), (615, 412), (768, 1039), (228, 152), (268, 188), (760, 507), (212, 238), (292, 173), (852, 480), (269, 168), (299, 169), (1920, 1440), (275, 184), (216, 162), (380, 133), (450, 338), (640, 480), (612, 409), (208, 167), (800, 533), (900, 675), (263, 176), (282, 189), (1600, 1053), (248, 166), (194, 259), (400, 300), (244, 153), (660, 495), (262, 177), (640, 345), (230, 154), (930, 300), (245, 163), (255, 165), (2272, 1704)}\n"
     ]
    }
   ],
   "source": [
    "#Todos los comentarios fueron hechos una vez que se habia acabado \n",
    "#el analisis en Colab, y una de las estrategias que tome fue encontrar el \n",
    "#tamañao de imagen más común para que la red convolucional \n",
    "#pudiera tener una visión más clara de las imagenes, y asi incrementar su presición.\n",
    "\n",
    "# Image Shape\n",
    "def get_image_shape(image_path):\n",
    "    try:\n",
    "        with Image.open(image_path) as img:\n",
    "            return img.size\n",
    "    except Exception as e:\n",
    "        print(f\"Error processing {image_path}: {e}\")\n",
    "        return None\n",
    "\n",
    "# te veo, te analizo y te admiro\n",
    "def analyze_subfolder(subfolder_path):\n",
    "    shapes = set()\n",
    "    num_images = 0\n",
    "    for filename in os.listdir(subfolder_path):\n",
    "        if filename.endswith(\".jpg\"):\n",
    "            num_images += 1\n",
    "            image_path = os.path.join(subfolder_path, filename)\n",
    "            shape = get_image_shape(image_path)\n",
    "            if shape:\n",
    "                shapes.add(shape)\n",
    "    return num_images, shapes\n",
    "\n",
    "#en donde están los folders\n",
    "parent_folder = r\"C:\\Users\\think\\Documents\\GitRepos\\FP_TSAF-2024\\WeatherDataSet_Organized\"\n",
    "\n",
    "for subfolder in os.listdir(parent_folder):\n",
    "    subfolder_path = os.path.join(parent_folder, subfolder)\n",
    "    if os.path.isdir(subfolder_path):\n",
    "        num_images, shapes = analyze_subfolder(subfolder_path)\n",
    "        print(f\"Subfolder: {subfolder}\")\n",
    "        print(f\"Number of images: {num_images}\")\n",
    "        print(f\"Shapes: {shapes}\")"
   ]
  },
  {
   "cell_type": "markdown",
   "metadata": {},
   "source": [
    "### Un conjunto balanceado"
   ]
  },
  {
   "cell_type": "code",
   "execution_count": 32,
   "metadata": {},
   "outputs": [
    {
     "name": "stdout",
     "output_type": "stream",
     "text": [
      "Subfolder: cloudy\n",
      "Number of images: 300\n",
      "Shapes: {(255, 192), (229, 173), (252, 168), (1024, 675), (297, 167), (1280, 720), (291, 169), (225, 178), (300, 300), (615, 409), (312, 164), (768, 508), (206, 155), (241, 177), (500, 309), (287, 192), (250, 152), (207, 156), (259, 194), (233, 175), (282, 159), (1000, 750), (268, 178), (260, 174), (254, 170), (267, 189), (272, 185), (700, 421), (298, 185), (800, 377), (500, 329), (270, 178), (284, 177), (261, 175), (281, 187), (299, 168), (238, 158), (290, 174), (600, 254), (520, 362), (278, 157), (229, 152), (247, 252), (241, 181), (600, 400), (260, 194), (251, 167), (270, 180), (317, 167), (285, 171), (222, 167), (272, 153), (203, 163), (231, 154), (318, 159), (263, 168), (243, 162), (350, 200), (206, 152), (223, 168), (205, 154), (342, 171), (264, 178), (226, 170), (800, 500), (205, 300), (275, 172), (1920, 1080), (590, 400), (851, 377), (247, 165), (1024, 576), (720, 476), (272, 182), (213, 160), (303, 160), (224, 224), (276, 173), (271, 186), (239, 160), (1000, 667), (220, 165), (550, 412), (225, 225), (480, 360), (268, 168), (241, 151), (275, 183), (400, 269), (241, 160), (640, 360), (305, 172), (221, 166), (282, 179), (256, 160), (281, 159), (874, 664), (256, 169), (273, 185), (274, 184), (242, 161), (1077, 1600), (228, 171), (300, 157), (255, 198), (468, 351), (258, 169), (323, 170), (249, 166), (268, 179), (256, 153), (245, 153), (900, 676), (595, 476), (1600, 706), (640, 453), (203, 153), (500, 333), (300, 168), (1600, 1200), (266, 175), (211, 239), (720, 400), (2000, 2000), (332, 175), (258, 171), (306, 165), (236, 177), (230, 173), (245, 155), (226, 151), (800, 600), (300, 134), (231, 174), (317, 159), (302, 170), (211, 159), (237, 178), (301, 181), (267, 167), (199, 151), (1920, 1280), (256, 166), (326, 155), (319, 158), (209, 155), (239, 168), (201, 151), (1600, 1067), (700, 438), (283, 177), (261, 174), (227, 151), (258, 166), (900, 600), (267, 178), (225, 300), (490, 326), (800, 540), (300, 138), (255, 170), (301, 167), (284, 160), (312, 176), (759, 462), (250, 201), (338, 149), (852, 480), (183, 275), (235, 157), (728, 410), (269, 168), (241, 161), (227, 171), (1600, 971), (640, 480), (208, 167), (900, 675), (800, 533), (288, 175), (219, 151), (300, 149), (194, 259), (400, 300), (600, 300), (1024, 682), (265, 166), (238, 179), (375, 166), (285, 153)}\n",
      "Subfolder: rain\n",
      "Number of images: 215\n",
      "Shapes: {(580, 370), (674, 441), (594, 277), (640, 402), (1280, 720), (280, 160), (2244, 1458), (604, 272), (1668, 1500), (858, 536), (640, 420), (1023, 576), (850, 532), (725, 400), (615, 409), (550, 383), (648, 360), (276, 183), (326, 300), (500, 400), (259, 194), (250, 225), (595, 335), (280, 180), (266, 190), (480, 388), (400, 224), (360, 270), (800, 542), (539, 303), (284, 177), (280, 210), (299, 168), (590, 332), (290, 174), (417, 352), (4288, 2848), (800, 480), (600, 400), (260, 194), (768, 576), (289, 175), (281, 180), (460, 307), (680, 365), (350, 200), (666, 338), (630, 446), (310, 163), (1920, 1080), (300, 354), (759, 422), (1024, 622), (800, 466), (960, 540), (3500, 2453), (271, 186), (590, 329), (283, 178), (1023, 742), (480, 360), (650, 380), (225, 225), (275, 183), (600, 315), (660, 400), (600, 443), (450, 300), (274, 184), (3000, 2034), (3000, 1997), (185, 273), (651, 445), (650, 510), (468, 351), (1024, 626), (964, 859), (460, 288), (760, 400), (553, 369), (870, 488), (300, 168), (634, 422), (1600, 1200), (692, 384), (1024, 683), (700, 415), (960, 720), (635, 423), (800, 600), (370, 305), (618, 416), (1028, 735), (2059, 1158), (650, 487), (300, 225), (612, 405), (550, 366), (384, 288), (236, 243), (900, 506), (1191, 670), (303, 171), (1600, 1067), (900, 600), (800, 531), (650, 400), (268, 188), (273, 184), (320, 180), (289, 174), (292, 173), (852, 480), (183, 275), (600, 600), (2048, 1360), (640, 480), (800, 533), (253, 199), (615, 414), (810, 455), (570, 400), (680, 455), (400, 300), (620, 413), (300, 158), (600, 300), (188, 194), (620, 376), (1600, 900), (468, 282), (635, 459), (1000, 746), (2354, 1325), (320, 221)}\n",
      "Subfolder: shine\n",
      "Number of images: 253\n",
      "Shapes: {(314, 177), (252, 168), (281, 183), (325, 183), (290, 161), (244, 173), (225, 169), (300, 172), (240, 160), (615, 409), (274, 171), (168, 162), (232, 174), (206, 155), (189, 267), (276, 183), (550, 413), (259, 194), (211, 172), (233, 175), (200, 300), (263, 164), (245, 158), (254, 170), (267, 189), (240, 180), (688, 456), (287, 176), (840, 560), (691, 461), (270, 169), (284, 177), (235, 156), (227, 152), (299, 168), (300, 167), (290, 174), (204, 153), (400, 226), (259, 162), (1080, 1080), (237, 177), (936, 526), (242, 182), (219, 180), (231, 154), (280, 175), (318, 159), (243, 162), (350, 200), (2000, 1125), (325, 155), (1024, 839), (900, 596), (1920, 1080), (1024, 576), (600, 450), (1024, 768), (440, 330), (198, 159), (1000, 667), (253, 168), (220, 165), (226, 181), (480, 360), (283, 178), (225, 225), (275, 174), (241, 151), (275, 183), (600, 315), (261, 193), (158, 153), (221, 166), (271, 179), (287, 175), (620, 464), (450, 300), (320, 480), (274, 184), (228, 171), (239, 180), (257, 161), (180, 140), (238, 212), (300, 111), (286, 176), (250, 156), (230, 153), (1680, 1050), (2880, 1800), (245, 153), (184, 183), (244, 151), (209, 169), (608, 458), (300, 168), (266, 166), (1600, 1200), (1024, 683), (230, 164), (235, 178), (269, 180), (287, 161), (720, 537), (307, 173), (245, 164), (800, 426), (1200, 680), (302, 170), (2048, 1536), (248, 251), (227, 222), (327, 135), (244, 183), (288, 162), (282, 176), (640, 430), (480, 640), (273, 182), (262, 161), (283, 159), (275, 155), (168, 300), (278, 181), (600, 360), (261, 174), (1920, 1200), (260, 163), (367, 137), (500, 346), (264, 154), (640, 359), (230, 168), (224, 225), (223, 165), (644, 402), (318, 247), (852, 480), (183, 275), (235, 157), (269, 168), (199, 155), (264, 165), (237, 157), (180, 178), (620, 413), (229, 171), (259, 172), (244, 153), (400, 300), (258, 161), (300, 188), (238, 179)}\n",
      "Subfolder: sunrise\n",
      "Number of images: 357\n",
      "Shapes: {(294, 165), (372, 167), (286, 161), (315, 197), (247, 154), (252, 168), (1280, 720), (900, 597), (225, 169), (3456, 1801), (240, 160), (318, 162), (336, 210), (274, 171), (265, 177), (232, 174), (400, 231), (440, 267), (242, 151), (600, 524), (295, 166), (276, 183), (2500, 1667), (281, 176), (350, 230), (1140, 709), (360, 240), (500, 400), (3008, 2000), (259, 194), (300, 110), (233, 175), (207, 156), (1000, 750), (1323, 864), (280, 180), (260, 174), (3888, 2592), (557, 900), (255, 169), (240, 180), (320, 179), (500, 375), (242, 162), (284, 177), (300, 94), (280, 210), (227, 152), (1022, 682), (800, 450), (299, 168), (612, 564), (291, 164), (300, 112), (234, 176), (300, 121), (251, 201), (300, 130), (329, 166), (318, 166), (745, 556), (204, 153), (269, 188), (215, 162), (260, 194), (660, 430), (279, 183), (233, 161), (281, 180), (244, 170), (213, 320), (318, 159), (258, 172), (243, 162), (212, 159), (287, 162), (4752, 3168), (380, 164), (736, 552), (226, 170), (244, 163), (3200, 1200), (266, 160), (4261, 3195), (190, 265), (1920, 1080), (1440, 900), (266, 178), (320, 213), (300, 299), (232, 155), (1024, 576), (2304, 1728), (1920, 1281), (213, 160), (1024, 768), (516, 234), (261, 163), (276, 182), (1000, 667), (283, 169), (220, 165), (201, 161), (480, 360), (225, 225), (283, 178), (275, 183), (240, 161), (260, 173), (612, 408), (969, 545), (620, 400), (420, 320), (256, 160), (273, 185), (274, 184), (341, 512), (242, 161), (900, 463), (376, 250), (784, 508), (228, 171), (300, 157), (202, 152), (239, 180), (257, 161), (277, 173), (249, 166), (344, 147), (232, 168), (270, 152), (245, 153), (1024, 763), (271, 181), (680, 453), (237, 158), (200, 157), (262, 175), (229, 172), (203, 153), (300, 168), (266, 166), (1600, 1200), (238, 159), (1280, 853), (320, 210), (257, 172), (266, 175), (269, 180), (236, 177), (230, 173), (350, 263), (243, 170), (640, 428), (350, 144), (2048, 844), (245, 164), (4368, 2912), (231, 174), (234, 152), (320, 240), (228, 166), (214, 176), (211, 159), (500, 326), (790, 555), (316, 480), (1024, 557), (266, 177), (320, 212), (400, 266), (221, 282), (1920, 1280), (259, 156), (224, 168), (1600, 1049), (278, 181), (283, 177), (261, 174), (750, 500), (227, 151), (500, 282), (1920, 1200), (900, 600), (252, 189), (224, 152), (333, 187), (225, 300), (738, 492), (2560, 1600), (281, 158), (615, 412), (768, 1039), (228, 152), (268, 188), (760, 507), (212, 238), (292, 173), (852, 480), (269, 168), (299, 169), (1920, 1440), (275, 184), (216, 162), (380, 133), (450, 338), (640, 480), (612, 409), (208, 167), (800, 533), (900, 675), (263, 176), (282, 189), (1600, 1053), (248, 166), (194, 259), (400, 300), (244, 153), (660, 495), (262, 177), (640, 345), (230, 154), (930, 300), (245, 163), (255, 165), (2272, 1704)}\n",
      "Subfolder cloudy in balanced dataset has been filled up to 215 images.\n",
      "Subfolder rain in balanced dataset has been filled up to 215 images.\n",
      "Subfolder shine in balanced dataset has been filled up to 215 images.\n",
      "Subfolder sunrise in balanced dataset has been filled up to 215 images.\n"
     ]
    }
   ],
   "source": [
    "import random\n",
    "import tensorflow as tf\n",
    "\n",
    "\n",
    "#Como son más imagenes de una clase que la otra, necesitamos añadir sin bias para el que tiene mas de 215 imagenes.\n",
    "seed = 42 #ocupamos una semilla para que sea reproducible\n",
    "tf.random.set_seed(seed)\n",
    "random.seed(seed)\n",
    "\n",
    "#Esta rutina hace lo mismo que la otra, pero añadimos algo extra al final\n",
    "def get_image_shape(image_path):\n",
    "    try:\n",
    "        with Image.open(image_path) as img:\n",
    "            return img.size\n",
    "    except Exception as e:\n",
    "        print(f\"Error processing {image_path}: {e}\")\n",
    "        return None\n",
    "def analyze_subfolder(subfolder_path):\n",
    "    shapes = set()\n",
    "    num_images = 0\n",
    "    images = []\n",
    "    for filename in os.listdir(subfolder_path):\n",
    "        if filename.endswith(\".jpg\"):\n",
    "            num_images += 1\n",
    "            image_path = os.path.join(subfolder_path, filename)\n",
    "            shape = get_image_shape(image_path)\n",
    "            if shape:\n",
    "                shapes.add(shape)\n",
    "                images.append(image_path)\n",
    "    return num_images, shapes, images\n",
    "\n",
    "# De donce vamos a sacar las imagenes\n",
    "parent_folder = r\"C:\\Users\\think\\Documents\\GitRepos\\FP_TSAF-2024\\WeatherDataSet_Organized copy\"\n",
    "\n",
    "# Donde va a estar el folder\n",
    "balanced_folder = r\"C:\\Users\\think\\Documents\\GitRepos\\FP_TSAF-2024\\WeatherDataSet_Balanced\"\n",
    "\n",
    "#Creamos el folder\n",
    "os.makedirs(balanced_folder, exist_ok=True)\n",
    "\n",
    "subfolder_info = {}\n",
    "for subfolder in os.listdir(parent_folder):\n",
    "    subfolder_path = os.path.join(parent_folder, subfolder)\n",
    "    if os.path.isdir(subfolder_path):\n",
    "        num_images, shapes, images = analyze_subfolder(subfolder_path)\n",
    "        subfolder_info[subfolder] = {\n",
    "            \"num_images\": num_images,\n",
    "            \"shapes\": shapes,\n",
    "            \"images\": images,\n",
    "            \"path\": subfolder_path\n",
    "        }\n",
    "        print(f\"Subfolder: {subfolder}\")\n",
    "        print(f\"Number of images: {num_images}\")\n",
    "        print(f\"Shapes: {shapes}\")\n",
    "\n",
    "#Llenamos los folders \n",
    "for subfolder, info in subfolder_info.items(): \n",
    "    # Creamos el subfolder en el balanced dataset\n",
    "    balanced_subfolder_path = os.path.join(balanced_folder, subfolder)\n",
    "    os.makedirs(balanced_subfolder_path, exist_ok=True)\n",
    "    \n",
    "    # Llenamos con imagenes random hasta 215\n",
    "    for i in range(215):\n",
    "        random_index = i % len(info[\"images\"])  # Itera sobre las imagenes\n",
    "        random_image = info[\"images\"][random_index] # Escoge una imagen random\n",
    "        new_image_name = f\"{os.path.basename(random_image)}\" # Copia el nombre de la imagen\n",
    "        new_image_path = os.path.join(balanced_subfolder_path, new_image_name) # Crea la ruta de la imagen\n",
    "        shutil.copy(random_image, new_image_path) # Copia la imagen\n",
    "    \n",
    "    print(f\"Subfolder {subfolder} in balanced dataset has been filled up to {min_num_images} images.\")\n",
    "\n"
   ]
  },
  {
   "cell_type": "markdown",
   "metadata": {},
   "source": [
    "### Visualizando la distribución"
   ]
  },
  {
   "cell_type": "code",
   "execution_count": null,
   "metadata": {},
   "outputs": [],
   "source": [
    "import os\n",
    "import glob\n",
    "import matplotlib.pyplot as plt\n",
    "import numpy as np\n",
    "\n",
    "def count_files_in_subfolders(main_folder_path, subfolders):\n",
    "    counts = []\n",
    "    for folder in subfolders:\n",
    "        folder_path = os.path.join(main_folder_path, folder)\n",
    "        files = glob.glob(os.path.join(folder_path, '*.jpg'))\n",
    "        counts.append(len(files))\n",
    "    return counts\n",
    "\n",
    "def plot_distribution(subfolders, counts):\n",
    "    plt.figure(figsize=(10, 6))\n",
    "    colors = plt.cm.viridis(np.linspace(0, 1, len(subfolders)))\n",
    "    bars = plt.bar(subfolders, counts, color=colors)\n",
    "    \n",
    "    for bar in bars:\n",
    "        height = bar.get_height()\n",
    "        plt.text(bar.get_x() + bar.get_width() / 2.0, height, f'{height}', ha='center', va='bottom')\n",
    "    \n",
    "    plt.xlabel('Subfolders')\n",
    "    plt.ylabel('Number of .jpg files')\n",
    "    plt.title('Distribution of .jpg files in subfolders')\n",
    "    plt.show()\n",
    "\n",
    "def main(main_folder_path, subfolders):\n",
    "    counts = count_files_in_subfolders(main_folder_path, subfolders)\n",
    "    plot_distribution(subfolders, counts)\n",
    "\n",
    "\n"
   ]
  },
  {
   "cell_type": "code",
   "execution_count": 9,
   "metadata": {},
   "outputs": [
    {
     "data": {
      "image/png": "[encoded data removed]",
      "text/plain": [
       "<Figure size 1000x600 with 1 Axes>"
      ]
     },
     "metadata": {},
     "output_type": "display_data"
    }
   ],
   "source": [
    "if __name__ == \"__main__\":\n",
    "    main_folder_path = r'C:\\Users\\think\\Documents\\GitRepos\\FP_TSAF-2024\\WeatherDataSet_Balanced'\n",
    "    subfolders = ['cloudy', 'rain', 'shine', 'sunrise']\n",
    "    main(main_folder_path, subfolders)"
   ]
  },
  {
   "cell_type": "code",
   "execution_count": 7,
   "metadata": {},
   "outputs": [
    {
     "data": {
      "image/png": "[encoded data removed]",
      "text/plain": [
       "<Figure size 1000x600 with 1 Axes>"
      ]
     },
     "metadata": {},
     "output_type": "display_data"
    }
   ],
   "source": [
    "if __name__ == \"__main__\":\n",
    "    main_folder_path = r'C:\\Users\\think\\Documents\\GitRepos\\FP_TSAF-2024\\WeatherDataSet_Organized'\n",
    "    subfolders = ['cloudy', 'rain', 'shine', 'sunrise']\n",
    "    main(main_folder_path, subfolders)\n"
   ]
  },
  {
   "cell_type": "markdown",
   "metadata": {},
   "source": [
    "### Una idea"
   ]
  },
  {
   "cell_type": "code",
   "execution_count": 39,
   "metadata": {},
   "outputs": [
    {
     "name": "stdout",
     "output_type": "stream",
     "text": [
      "Subfolder: cloudy\n",
      "Number of images: 300\n",
      "Mean shape: (416.0833333333333, 277.50333333333333)\n",
      "Subfolder: rain\n",
      "Number of images: 215\n",
      "Mean shape: (633.0046511627907, 411.19069767441863)\n",
      "Subfolder: shine\n",
      "Number of images: 253\n",
      "Mean shape: (423.97628458498025, 284.1146245059289)\n",
      "Subfolder: sunrise\n",
      "Number of images: 357\n",
      "Mean shape: (564.156862745098, 372.7170868347339)\n"
     ]
    }
   ],
   "source": [
    "import os\n",
    "from PIL import Image\n",
    "import numpy as np\n",
    "\n",
    "def get_image_shape(image_path):\n",
    "    try:\n",
    "        with Image.open(image_path) as img:\n",
    "            return img.size\n",
    "    except Exception as e:\n",
    "        print(f\"Error processing {image_path}: {e}\")\n",
    "        return None\n",
    "\n",
    "def analyze_subfolder(subfolder_path):\n",
    "    shapes = []\n",
    "    num_images = 0\n",
    "    for filename in os.listdir(subfolder_path):\n",
    "        if filename.endswith(\".jpg\"):\n",
    "            num_images += 1\n",
    "            image_path = os.path.join(subfolder_path, filename)\n",
    "            shape = get_image_shape(image_path)\n",
    "            if shape:\n",
    "                shapes.append(shape)\n",
    "    return num_images, shapes\n",
    "\n",
    "def calculate_mean_shape(shapes):\n",
    "    if not shapes:\n",
    "        return (0, 0)\n",
    "    widths, heights = zip(*shapes)\n",
    "    mean_width = np.mean(widths)\n",
    "    mean_height = np.mean(heights)\n",
    "    return (mean_width, mean_height)\n",
    "\n",
    "def main(parent_folder):\n",
    "    for subfolder in os.listdir(parent_folder):\n",
    "        subfolder_path = os.path.join(parent_folder, subfolder)\n",
    "        if os.path.isdir(subfolder_path):\n",
    "            num_images, shapes = analyze_subfolder(subfolder_path)\n",
    "            mean_shape = calculate_mean_shape(shapes)\n",
    "            print(f\"Subfolder: {subfolder}\")\n",
    "            print(f\"Number of images: {num_images}\")\n",
    "            print(f\"Mean shape: {mean_shape}\")\n",
    "\n",
    "# Define the parent folder path\n",
    "parent_folder = r\"C:\\Users\\think\\Documents\\GitRepos\\FP_TSAF-2024\\WeatherDataSet_Organized\"\n",
    "\n",
    "# Call the main function\n",
    "main(parent_folder)\n"
   ]
  }
 ],
 "metadata": {
  "kernelspec": {
   "display_name": "base",
   "language": "python",
   "name": "python3"
  },
  "language_info": {
   "codemirror_mode": {
    "name": "ipython",
    "version": 3
   },
   "file_extension": ".py",
   "mimetype": "text/x-python",
   "name": "python",
   "nbconvert_exporter": "python",
   "pygments_lexer": "ipython3",
   "version": "3.11.4"
  }
 },
 "nbformat": 4,
 "nbformat_minor": 2
}
